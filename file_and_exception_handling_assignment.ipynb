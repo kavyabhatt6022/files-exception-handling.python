{
  "nbformat": 4,
  "nbformat_minor": 0,
  "metadata": {
    "colab": {
      "provenance": []
    },
    "kernelspec": {
      "name": "python3",
      "display_name": "Python 3"
    },
    "language_info": {
      "name": "python"
    }
  },
  "cells": [
    {
      "cell_type": "markdown",
      "source": [
        "# Files, exceptional handling, logging and memory management questions"
      ],
      "metadata": {
        "id": "zwWdsbY5jLdq"
      }
    },
    {
      "cell_type": "markdown",
      "source": [
        "1. What is the difference between interpreted and compiled languages?"
      ],
      "metadata": {
        "id": "2bh7dZ1KjhxV"
      }
    },
    {
      "cell_type": "markdown",
      "source": [
        "- Compiled Languages:\n",
        " - Source code is translated into machine code (executable) *before* execution.\n",
        " - Execution is typically faster because the code is already in machine-readable form.\n",
        " - Compilation process can be time-consuming.\n",
        " - Errors are typically detected during the compilation phase.\n",
        " - Examples: C, C++, Java (though Java uses a bytecode intermediate step), Go.\n",
        "\n",
        "\n",
        "- Interpreted Languages:\n",
        " - Source code is executed line by line by an interpreter.\n",
        " - Execution is generally slower than compiled languages.\n",
        " - Errors might be detected during runtime.\n",
        " - Easier to debug because the code is executed incrementally.\n",
        " - Examples: Python, JavaScript, Ruby, PHP.\n",
        "\n",
        "| Feature                | Interpreted Languages                   | Compiled Languages                       |\n",
        "|------------------------|----------------------------------------|-----------------------------------------|\n",
        "| Definition             | Code is executed line-by-line at runtime | Code is translated into machine code before execution |\n",
        "| Execution Speed        | Generally slower due to real-time interpretation | Generally faster due to pre-compiled machine code |\n",
        "| Development Cycle      | Easier to test and debug; changes can be run immediately | Requires recompilation after changes, which can slow down development |\n",
        "| Portability            | More portable; can run on any platform with the interpreter | Less portable; may require recompilation for different platforms |\n",
        "| Error Detection        | Errors are detected at runtime         | Errors are detected at compile-time, leading to fewer runtime errors |\n",
        "| Memory Usage           | Typically uses more memory due to the interpreter overhead | Generally uses less memory as the compiled code is optimized |\n",
        "| Examples               | Python, JavaScript, Ruby               | C, C++, Rust, Go                        |\n",
        "| Use Cases              | Suitable for scripting, web development, and rapid prototyping | Suitable for system programming, performance-critical applications |\n",
        "\n",
        "\n"
      ],
      "metadata": {
        "id": "CTeNjhWej43q"
      }
    },
    {
      "cell_type": "markdown",
      "source": [
        "2. What is exception handling in Python?"
      ],
      "metadata": {
        "id": "QaUA1fkbkZ8O"
      }
    },
    {
      "cell_type": "markdown",
      "source": [
        "- Exception handling in Python is a mechanism to gracefully handle errors or unexpected events that occur during program execution.  Instead of crashing the program, exception handling allows you to catch these errors, take appropriate actions (like logging the error, displaying a user-friendly message, or retrying the operation), and continue execution.  This makes your code more robust and prevents unexpected termination.  It uses `try`, `except`, `else`, and `finally` blocks to manage exceptions.\n"
      ],
      "metadata": {
        "id": "in9jz96olFgX"
      }
    },
    {
      "cell_type": "markdown",
      "source": [
        "3. What is the purpose of the finally block in exception handling?"
      ],
      "metadata": {
        "id": "okNuvP-SlMXm"
      }
    },
    {
      "cell_type": "markdown",
      "source": [
        "- The `finally` block in exception handling ensures that a specific piece of code is executed *regardless* of whether an exception occurred or not within the `try` block.  This is crucial for tasks that *must* be performed, such as releasing resources (closing files, network connections, etc.) or cleaning up temporary data.  Even if an exception is raised and caught by an `except` block, or if no exception occurs at all, the code within the `finally` block will always be executed.\n"
      ],
      "metadata": {
        "id": "6iPQEXiFlXJh"
      }
    },
    {
      "cell_type": "markdown",
      "source": [
        "4. What is logging in Python?"
      ],
      "metadata": {
        "id": "sAA78uJ0lfhA"
      }
    },
    {
      "cell_type": "markdown",
      "source": [
        "- Logging in Python is a built-in module that provides a flexible and efficient way to record events that occur during the execution of a program.  These events can be messages indicating the progress of the program, errors or warnings that might occur, or any other information that might be useful for debugging, monitoring, or auditing purposes.  The logging module offers different logging levels (DEBUG, INFO, WARNING, ERROR, CRITICAL) to categorize messages based on their severity, and allows you to configure how and where these messages are recorded (e.g., to a file, to the console, or to a remote server).  This helps developers track the flow of their programs, identify problems, and gain insights into the behavior of their applications in real-world scenarios.\n"
      ],
      "metadata": {
        "id": "oEw47RBKlmjo"
      }
    },
    {
      "cell_type": "markdown",
      "source": [
        "5. What is the significance of the _ __ del__ _ method in Python?"
      ],
      "metadata": {
        "id": "TC5ibjNoltVs"
      }
    },
    {
      "cell_type": "markdown",
      "source": [
        "- The `__del__` method in Python is a special method (also known as a destructor) that is called when an object is about to be destroyed or deallocated.  It's essentially the object's cleanup routine.  While it can be used to release resources held by the object (like closing files or network connections), it's not guaranteed to be called reliably in all situations (especially during program termination or exceptions).  Therefore, relying solely on `__del__` for critical cleanup is generally discouraged.  Context managers (using the `with` statement) and explicit calls to cleanup methods are preferred for resource management.\n"
      ],
      "metadata": {
        "id": "F-oQ3PRmmMMH"
      }
    },
    {
      "cell_type": "markdown",
      "source": [
        "6. What is the difference between import and from ... import in Python?"
      ],
      "metadata": {
        "id": "YQ-XF3QWmYHg"
      }
    },
    {
      "cell_type": "markdown",
      "source": [
        "- The `import` statement loads an entire module into your current namespace, but you access its contents using the module name as a prefix.  For example, `import math` lets you use `math.sqrt(4)`\n",
        "\n",
        "- The `from ... import` statement imports specific attributes (functions, classes, variables) from a module directly into your current namespace.  For example, `from math import sqrt` allows you to use `sqrt(4)` without the `math.` prefix.  You can import multiple attributes by separating them with commas, like `from math import sqrt, pi`.\n"
      ],
      "metadata": {
        "id": "rGlfO5n2mnnd"
      }
    },
    {
      "cell_type": "markdown",
      "source": [
        "7. How can you handle multiple exceptions in Python?"
      ],
      "metadata": {
        "id": "I-eEPFH2m2Br"
      }
    },
    {
      "cell_type": "markdown",
      "source": [
        "- We can handle multiple exceptions in Python using a single `except` block with a tuple of exception types, or by using multiple `except` blocks to handle different exception types individually.  The first method is more concise when you want to handle several exceptions in the same way.  The second method gives you more granular control, allowing you to apply specific actions to each different exception type.\n"
      ],
      "metadata": {
        "id": "jZhbijQLm-oh"
      }
    },
    {
      "cell_type": "markdown",
      "source": [
        "8. What is the purpose of the with statement when handling files in Python?"
      ],
      "metadata": {
        "id": "ub_EwnFdnPjY"
      }
    },
    {
      "cell_type": "markdown",
      "source": [
        "- The `with` statement in Python, when used with files, ensures that the file is properly closed after its suite finishes, even if exceptions occur.  This is crucial for resource management, as it prevents potential data loss or corruption due to unclosed files.  It simplifies file handling by automatically taking care of closing the file, making the code more reliable and less prone to errors.\n"
      ],
      "metadata": {
        "id": "ZZcAAjSxnlX4"
      }
    },
    {
      "cell_type": "markdown",
      "source": [
        "9. What is the difference between multithreading and multiprocessing?"
      ],
      "metadata": {
        "id": "GtthwNnvns79"
      }
    },
    {
      "cell_type": "markdown",
      "source": [
        "- Multithreading and multiprocessing are both techniques for achieving parallelism in programs, but they differ in how they utilize system resources.\n",
        "-  Multithreading uses multiple threads *within a single process*, sharing the same memory space.  This allows for efficient communication between threads but is limited by the Global Interpreter Lock (GIL) in Python, preventing true parallelism for CPU-bound tasks.\n",
        "-  Multiprocessing, on the other hand, uses multiple *separate processes*, each with its own memory space.  This bypasses the GIL limitation, enabling true parallelism for CPU-bound tasks, but inter-process communication is slower due to the overhead of sharing data between different memory spaces.\n",
        "- Therefore, multithreading is generally better for I/O-bound tasks where processes spend significant time waiting, while multiprocessing is more suitable for CPU-bound tasks that can benefit from parallel execution.\n",
        "\n",
        "\n",
        "Here's a comparison of multithreading and multiprocessing in tabular form:\n",
        "\n",
        "| Feature                | Multithreading                          | Multiprocessing                          |\n",
        "|------------------------|----------------------------------------|-----------------------------------------|\n",
        "| Definition             | Multiple threads within a single process | Multiple processes running independently |\n",
        "| Memory Usage           | Shares the same memory space           | Each process has its own memory space   |\n",
        "| Communication          | Easier communication (shared memory)   | More complex communication (inter-process communication) |\n",
        "| Overhead               | Lower overhead due to shared resources  | Higher overhead due to separate memory and resources |\n",
        "| Performance            | Better for I/O-bound tasks              | Better for CPU-bound tasks               |\n",
        "| Context Switching      | Faster context switching                 | Slower context switching                  |\n",
        "| Fault Isolation        | Less fault isolation (one thread can crash the whole process) | Better fault isolation (one process crash does not affect others) |\n",
        "| Scalability            | Limited by the Global Interpreter Lock (GIL) in some languages (e.g., Python) | Better scalability on multi-core systems |\n",
        "| Use Cases              | Suitable for tasks that require concurrent execution, like web servers | Suitable for tasks that require parallel execution, like data processing |\n"
      ],
      "metadata": {
        "id": "gufkKoI6n61c"
      }
    },
    {
      "cell_type": "markdown",
      "source": [
        "10. What are the advantages of using logging in a program?"
      ],
      "metadata": {
        "id": "_IZPiidRona7"
      }
    },
    {
      "cell_type": "markdown",
      "source": [
        "- Logging provides several advantages for programs:\n",
        "\n",
        " * **Debugging:** Logs record events, making it easier to trace program execution and identify the source of errors or unexpected behavior.\n",
        " * **Monitoring:** Logs provide insights into the runtime behavior and performance of a program, allowing for proactive identification of issues and performance bottlenecks.\n",
        " * **Auditing:** Logs serve as a record of events, crucial for security audits and regulatory compliance, by tracking user actions and system changes.\n",
        " * **Troubleshooting:** Detailed logs assist in diagnosing problems in production environments without disrupting the live system.\n",
        " * **Historical Analysis:**  Logs offer historical data to analyze trends, identify patterns, and improve system performance over time.\n",
        " * **Flexibility:** Different logging levels allow filtering messages based on importance (debug, info, warning, error, critical).\n",
        " * **Centralized Logging:** Log messages can be directed to a central location for aggregated analysis and monitoring of multiple systems."
      ],
      "metadata": {
        "id": "Ok3hYJEPpJG8"
      }
    },
    {
      "cell_type": "markdown",
      "source": [
        "11. What is memory management in Python?\n"
      ],
      "metadata": {
        "id": "-DE3fYxppSSk"
      }
    },
    {
      "cell_type": "markdown",
      "source": [
        "- Memory management in Python refers to how the Python interpreter allocates and deallocates memory for objects and data structures during program execution.  Python employs a private heap space to store objects, which is managed by the Python memory manager. This manager handles tasks like allocating memory for new objects, deallocating memory when objects are no longer referenced, and optimizing memory usage to improve performance.  Python's automatic garbage collection automatically reclaims memory occupied by objects that are no longer in use, reducing the risk of memory leaks.\n"
      ],
      "metadata": {
        "id": "RwjxYWDPpaRD"
      }
    },
    {
      "cell_type": "markdown",
      "source": [
        "12. What are the basic steps involved in exception handling in Python?"
      ],
      "metadata": {
        "id": "YfUmZKlmpsBu"
      }
    },
    {
      "cell_type": "markdown",
      "source": [
        "- The basic steps in Python exception handling are:\n",
        "\n",
        " 1. **`try` block:** Enclose the code that might raise an exception within a `try` block.  This is where you place the code you want to monitor for errors.\n",
        "\n",
        " 2. **`except` block(s):**  Follow the `try` block with one or more `except` blocks. Each `except` block specifies the type of exception it handles. When an exception occurs within the `try` block, Python checks each `except` block to see if it matches the exception type.  If a match is found, the code in that `except` block is executed. You can have multiple `except` blocks to handle different types of exceptions differently.\n",
        "\n",
        " 3. **`else` block (optional):**  An `else` block can be added after the `except` block(s).  The code in the `else` block executes only if *no* exceptions occur in the `try` block.  This is useful for code that should run only when the `try` block completes successfully.\n",
        "\n",
        " 4. **`finally` block (optional):** A `finally` block can be added at the end.  The code in the `finally` block *always* executes, regardless of whether an exception occurred or was handled. This is typically used for cleanup operations, such as closing files or releasing resources, to ensure they are always performed.\n"
      ],
      "metadata": {
        "id": "qaySmQTdp4Dr"
      }
    },
    {
      "cell_type": "markdown",
      "source": [
        "13. Why is memory management important in Python?"
      ],
      "metadata": {
        "id": "eMcSMkDQqGCu"
      }
    },
    {
      "cell_type": "markdown",
      "source": [
        "- Memory management in Python is crucial for several reasons:\n",
        "\n",
        " 1. **Preventing Memory Leaks:** Without proper memory management, unused objects accumulate in memory, leading to memory leaks.  This can eventually exhaust available memory, causing the program to crash or become sluggish. Python's garbage collector helps prevent this, but understanding memory usage is still vital.\n",
        "\n",
        " 2. **Optimizing Performance:** Efficient memory management ensures that your program uses memory effectively.  Unnecessary memory allocation or deallocation can lead to performance bottlenecks.  Optimizing memory usage can improve speed and responsiveness.\n",
        "\n",
        " 3. **Resource Availability:**  Programs often interact with external resources like files, network connections, and databases. These resources often require memory for buffering and processing data. Proper memory management prevents resource exhaustion, guaranteeing stable operation.\n",
        "\n",
        " 4. **Stability and Reliability:**  Memory errors are a common source of program crashes.  Effective memory management reduces the likelihood of such errors, making the application more stable and reliable.\n",
        "\n",
        " 5. **Scalability:**  For applications handling large datasets or a high volume of users, memory management is particularly important. Efficient memory usage ensures the application can scale without running out of resources.\n"
      ],
      "metadata": {
        "id": "8XMa776mqP5G"
      }
    },
    {
      "cell_type": "markdown",
      "source": [
        "14. What is the role of try and except in exception handling?"
      ],
      "metadata": {
        "id": "MCsPfACAqbt9"
      }
    },
    {
      "cell_type": "markdown",
      "source": [
        "- The `try` and `except` blocks are fundamental to exception handling in Python.  The `try` block contains the code that might raise an exception (an error).  If an exception occurs within the `try` block, Python immediately jumps to the corresponding `except` block.  The `except` block specifies the type of exception it can handle. If the exception type matches, the code within that `except` block is executed, allowing you to gracefully manage the error and potentially prevent the program from crashing. If no matching `except` block is found, the exception propagates up the call stack, potentially leading to program termination.  Essentially, `try` is where you put potentially problematic code, and `except` defines how you respond when a problem arises.\n"
      ],
      "metadata": {
        "id": "hrYz7j5oqlrV"
      }
    },
    {
      "cell_type": "markdown",
      "source": [
        "15. How does Python's garbage collection system work?"
      ],
      "metadata": {
        "id": "VNIKWBKcquOG"
      }
    },
    {
      "cell_type": "markdown",
      "source": [
        "- Python's garbage collection system primarily uses a combination of reference counting and a cyclic garbage collector to reclaim memory occupied by objects that are no longer reachable.\n",
        "\n",
        " **Reference Counting:**  Every object in Python has a reference count, which keeps track of how many variables or data structures are currently referencing it. When an object's reference count drops to zero, it means no part of the program is using it anymore, and its memory can be safely deallocated. This is the primary mechanism for garbage collection in Python.\n",
        "\n",
        " **Cyclic Garbage Collector:**  Reference counting has a limitation: it can't handle circular references.  A circular reference occurs when a group of objects refer to each other, forming a cycle.  Even if these objects are not reachable from the rest of the program, their reference counts would never become zero because they are still referenced by each other.  To address this issue, Python also employs a cyclic garbage collector. This component periodically identifies and collects cycles of objects that are no longer reachable, effectively breaking the circular references and releasing the memory.\n",
        "\n",
        " **Generational Garbage Collection:** Python's garbage collector also uses a generational approach.  Objects are divided into generations, and the garbage collector focuses more on younger generations, which are more likely to contain short-lived objects.  This optimization strategy reduces the overhead of garbage collection.\n",
        "\n",
        " In summary, Python's garbage collection is a hybrid approach that leverages both reference counting for efficient, quick reclamation of most objects and a cyclic garbage collector to handle more complex memory management scenarios. This system automatically manages memory, making it convenient for developers but requiring some understanding of its mechanisms to avoid potential memory-related issues.\n"
      ],
      "metadata": {
        "id": "PEn04f6Vq_Dk"
      }
    },
    {
      "cell_type": "markdown",
      "source": [
        "16. What is the purpose of the else block in exception handling?"
      ],
      "metadata": {
        "id": "c9dKfd1brTcO"
      }
    },
    {
      "cell_type": "markdown",
      "source": [
        "- The `else` block in exception handling executes only if no exceptions are raised within the preceding `try` block.  It's a way to specify code that should run only when the `try` block completes successfully, without any errors.\n"
      ],
      "metadata": {
        "id": "_dXPU69Drmga"
      }
    },
    {
      "cell_type": "markdown",
      "source": [
        "17. What are the common logging levels in Python?"
      ],
      "metadata": {
        "id": "gv94CDSRrtIj"
      }
    },
    {
      "cell_type": "markdown",
      "source": [
        "- The common logging levels in Python, from least to most severe, are:\n",
        "\n",
        " - DEBUG: Detailed information, typically of interest only when diagnosing problems.\n",
        "\n",
        " - INFO: Confirmation that things are working as expected.\n",
        "\n",
        " - WARNING: An indication that something unexpected happened, or indicative of some problem in the near future (e.g. ‘disk space low’). The software is still working as expected.\n",
        "\n",
        " - ERROR: Due to a more serious problem, the software has not been able to perform some function.\n",
        "\n",
        " - CRITICAL: A serious error, indicating that the program itself may be unable to continue running.\n"
      ],
      "metadata": {
        "id": "wq0_Xb5SsC2y"
      }
    },
    {
      "cell_type": "markdown",
      "source": [
        "18. What is the difference between os.fork() and multiprocessing in Python?"
      ],
      "metadata": {
        "id": "YYxqOEXesEpi"
      }
    },
    {
      "cell_type": "markdown",
      "source": [
        "- `os.fork()` is a system call available on Unix-like systems (not Windows) that creates a new process, which is a copy of the parent process.  It's a low-level mechanism for creating processes.  In Python, you'd typically use `os.fork()` within a program that needs to create multiple processes for parallel execution on these systems.\n",
        "\n",
        "- The `multiprocessing` module in Python provides a higher-level, platform-independent way to create and manage processes.  It abstracts away some of the complexities of dealing directly with `os.fork()` and provides a more consistent interface across different operating systems. `multiprocessing` is generally preferred over `os.fork()` because of its portability and easier use for process-based parallelism.\n"
      ],
      "metadata": {
        "id": "XX4_QBPBsajK"
      }
    },
    {
      "cell_type": "markdown",
      "source": [
        "19. What is the importance of closing a file in Python?"
      ],
      "metadata": {
        "id": "-d1jBBcCsdyQ"
      }
    },
    {
      "cell_type": "markdown",
      "source": [
        "- Closing a file in Python is crucial for several reasons:\n",
        "\n",
        " 1. **Resource Management:**  Files are system resources.  Keeping files open unnecessarily consumes those resources. Closing them releases the resources back to the operating system, preventing potential resource exhaustion, especially if your program opens many files or runs for a long time.\n",
        "\n",
        " 2. **Data Integrity:** When you write data to a file, it's often buffered in memory before being physically written to the storage device. Closing the file forces any remaining buffered data to be written, ensuring that all data is correctly and completely saved. Failing to close the file might lead to data loss or corruption, especially in case of program crashes or unexpected terminations.\n",
        "\n",
        " 3. **File Locking:**  On some systems, files might be locked while they are open.  Closing releases the locks, allowing other programs or processes to access the file.\n",
        "\n",
        " 4. **Preventing Errors:** Some operations on a file may not be allowed or might produce errors if the file is not closed correctly.  For example, trying to delete or rename a file that is still open may result in an error.\n",
        "\n",
        " 5. **Good Practice:** Explicitly closing files is considered good programming practice. It enhances the reliability and robustness of your code, making it less prone to errors related to resource management.  It also makes your code easier to understand and maintain.\n"
      ],
      "metadata": {
        "id": "dRK0cudNsrJS"
      }
    },
    {
      "cell_type": "markdown",
      "source": [
        "20. What is the difference between file.read() and file.readline() in Python?"
      ],
      "metadata": {
        "id": "ZrR1klMOs0F8"
      }
    },
    {
      "cell_type": "markdown",
      "source": [
        "- `file.read()` reads the *entire* contents of a file into a single string.\n",
        "-  `file.readline()` reads just *one line* at a time from the file.  If you call `file.readline()` repeatedly, you'll get each line of the file sequentially.\n"
      ],
      "metadata": {
        "id": "m-sJWE5RtdDB"
      }
    },
    {
      "cell_type": "markdown",
      "source": [
        "21. What is the logging module in Python used for?"
      ],
      "metadata": {
        "id": "n-niIPEV6By0"
      }
    },
    {
      "cell_type": "markdown",
      "source": [
        "- The logging module in Python is used to record events that occur during the execution of a program.  These events can be messages, errors, warnings, or any other information useful for debugging, monitoring, or auditing.  It offers different logging levels to categorize messages by severity and allows configuration of how and where these messages are recorded.\n"
      ],
      "metadata": {
        "id": "D9KmLlHJ6qwJ"
      }
    },
    {
      "cell_type": "markdown",
      "source": [
        "22. What is the os module in Python used for in file handling?"
      ],
      "metadata": {
        "id": "i--8SELi6vE3"
      }
    },
    {
      "cell_type": "markdown",
      "source": [
        "- The `os` module in Python provides functions for interacting with the operating system, including file handling.  It allows you to perform operations like creating, deleting, renaming, and navigating directories; checking file existence and attributes; and getting information about the file system.  Essentially, it's a bridge between your Python program and the underlying file system of the operating system.\n"
      ],
      "metadata": {
        "id": "OX2VSUbm7ixt"
      }
    },
    {
      "cell_type": "markdown",
      "source": [
        "23. What are the challenges associated with memory management in Python?"
      ],
      "metadata": {
        "id": "B0H2-oVf7rUw"
      }
    },
    {
      "cell_type": "markdown",
      "source": [
        "- The challenges associated with memory management in Python primarily revolve around potential memory leaks and performance bottlenecks.  While Python's garbage collector helps prevent many memory leaks by automatically reclaiming unused memory, circular references can sometimes prevent objects from being garbage collected, leading to memory bloat.  Additionally, inefficient memory allocation and deallocation can impact performance, particularly in applications handling large datasets or complex data structures.  Understanding memory usage patterns and employing memory-efficient data structures and algorithms is important to address these challenges and optimize performance.\n"
      ],
      "metadata": {
        "id": "wKHZC2TC8H7k"
      }
    },
    {
      "cell_type": "markdown",
      "source": [
        "24. How do you raise an exception manually in Python?"
      ],
      "metadata": {
        "id": "s3sXe-tP8nfg"
      }
    },
    {
      "cell_type": "markdown",
      "source": [
        "- To raise an exception manually in Python, you use the `raise` keyword followed by an exception object.  You can either raise a built-in exception type (like `ValueError`, `TypeError`, etc.) or create a custom exception class.\n"
      ],
      "metadata": {
        "id": "jEkTxAQk9CGy"
      }
    },
    {
      "cell_type": "markdown",
      "source": [
        "25. Why is it important to use multithreading in certain applications?"
      ],
      "metadata": {
        "id": "wAdsmL7n9G5F"
      }
    },
    {
      "cell_type": "markdown",
      "source": [
        "- Multithreading is important in applications that involve I/O-bound tasks, where the program spends a significant amount of time waiting for external operations like network requests or file reads.  Even though the Global Interpreter Lock (GIL) in CPython prevents true parallelism for CPU-bound tasks, multithreading can still improve performance in I/O-bound situations.  While one thread is waiting, another thread can execute, making better use of the available resources and potentially improving responsiveness and overall performance.\n"
      ],
      "metadata": {
        "id": "Ky_-QPcY9ZOo"
      }
    },
    {
      "cell_type": "markdown",
      "source": [
        "# Practical Questions"
      ],
      "metadata": {
        "id": "uVW-zgG59hg6"
      }
    },
    {
      "cell_type": "markdown",
      "source": [
        "1. How can you open a file for writing in Python and write a string to it?"
      ],
      "metadata": {
        "id": "l6ArdcZZ-NkV"
      }
    },
    {
      "cell_type": "code",
      "source": [
        "with open('my_file.txt', 'w') as file:\n",
        "  file.write('This is a test string.')\n",
        "\n",
        "file = open('my_file.txt', 'r')\n",
        "print(file.read())\n",
        "file.close()"
      ],
      "metadata": {
        "colab": {
          "base_uri": "https://localhost:8080/"
        },
        "id": "jt_TPe-y_zkd",
        "outputId": "2da49394-321e-4218-9bb6-b17ed5dc6787"
      },
      "execution_count": 5,
      "outputs": [
        {
          "output_type": "stream",
          "name": "stdout",
          "text": [
            "This is a test string.\n"
          ]
        }
      ]
    },
    {
      "cell_type": "markdown",
      "source": [
        "2. Write a Python program to read the contents of a file and print each line."
      ],
      "metadata": {
        "id": "RNsGIg1R__0Y"
      }
    },
    {
      "cell_type": "code",
      "source": [
        "with open('your_file.txt', 'w') as file:\n",
        "  file.write('This is 1 test string.')\n",
        "  file.write('This is 2 test string.')\n",
        "  file.write('This is 3 test string.')\n",
        "  file.write('This is 4 test string.')\n",
        "  file.write('This is 5 test string.')\n",
        "\n",
        "with open('your_file.txt', 'r') as file:\n",
        "  for line in file:\n",
        "    print(line, end='')\n",
        "\n"
      ],
      "metadata": {
        "colab": {
          "base_uri": "https://localhost:8080/"
        },
        "id": "t-bBVho6BJy8",
        "outputId": "65e6b6ec-d38f-4d51-9340-fa328ddc9e63"
      },
      "execution_count": 8,
      "outputs": [
        {
          "output_type": "stream",
          "name": "stdout",
          "text": [
            "This is 1 test string.This is 2 test string.This is 3 test string.This is 4 test string.This is 5 test string."
          ]
        }
      ]
    },
    {
      "cell_type": "markdown",
      "source": [
        "3. How would you handle a case where file doesn't exist while trying to open it for reading?"
      ],
      "metadata": {
        "id": "e_fgxF65CA1u"
      }
    },
    {
      "cell_type": "code",
      "source": [
        "def read_file_safely(filename):\n",
        "  try:\n",
        "    with open(filename, 'r') as file:\n",
        "      contents = file.read()\n",
        "      return contents\n",
        "  except FileNotFoundError:\n",
        "    print(f\"Error: File '{filename}' not found.\")\n",
        "    return None\n",
        "\n",
        "# Example usage\n",
        "file_contents = read_file_safely('non_existent_file.txt')\n",
        "if file_contents:\n",
        "    print(file_contents)\n",
        "\n",
        "file_contents = read_file_safely('your_file.txt') #using the file created in previous code block.\n",
        "if file_contents:\n",
        "     print(file_contents)"
      ],
      "metadata": {
        "colab": {
          "base_uri": "https://localhost:8080/"
        },
        "id": "rHNlvDDOCSE6",
        "outputId": "818ab69d-f25a-4886-b9cb-07d279e8b0be"
      },
      "execution_count": null,
      "outputs": [
        {
          "output_type": "stream",
          "name": "stdout",
          "text": [
            "Error: File 'non_existent_file.txt' not found.\n",
            "This is 1 test string.This is 2 test string.This is 3 test string.This is 4 test string.This is 5 test string.\n"
          ]
        }
      ]
    },
    {
      "cell_type": "markdown",
      "source": [
        "4. Write a Python script that reads from one file and write the content to another file."
      ],
      "metadata": {
        "id": "g11taV2TCylI"
      }
    },
    {
      "cell_type": "code",
      "source": [
        "def copy_file(source_file, destination_file):\n",
        "    \"\"\"Reads content from source_file and writes it to destination_file.\"\"\"\n",
        "    try:\n",
        "        with open(source_file, 'r') as infile, open(destination_file, 'w') as outfile:\n",
        "            for line in infile:\n",
        "                outfile.write(line)\n",
        "        print(f\"File '{source_file}' copied to '{destination_file}' successfully.\")\n",
        "    except FileNotFoundError:\n",
        "        print(f\"Error: Source file '{source_file}' not found.\")\n",
        "    except Exception as e:\n",
        "        print(f\"An error occurred: {e}\")\n",
        "\n",
        "\n",
        "# Example usage\n",
        "copy_file('your_file.txt', 'copied_file.txt')\n",
        "copy = open('copied_file.txt', 'r')\n",
        "print(copy.read())\n",
        "file.close()\n"
      ],
      "metadata": {
        "colab": {
          "base_uri": "https://localhost:8080/"
        },
        "id": "sJ_T2NR4DFuN",
        "outputId": "c94a94d7-6a9f-4654-b50b-9a9bd9e8b71a"
      },
      "execution_count": null,
      "outputs": [
        {
          "output_type": "stream",
          "name": "stdout",
          "text": [
            "File 'your_file.txt' copied to 'copied_file.txt' successfully.\n",
            "This is 1 test string.This is 2 test string.This is 3 test string.This is 4 test string.This is 5 test string.\n"
          ]
        }
      ]
    },
    {
      "cell_type": "markdown",
      "source": [
        "5. How would you catch and handle a division by zero error in Python?"
      ],
      "metadata": {
        "id": "KxLKMV0lDuFL"
      }
    },
    {
      "cell_type": "code",
      "source": [
        "def safe_division(numerator, denominator):\n",
        "    try:\n",
        "        result = numerator / denominator\n",
        "        return result\n",
        "    except ZeroDivisionError:\n",
        "        print(\"Error: Division by zero\")\n",
        "        return None  # Or return a default value like float('inf') or 0\n",
        "\n",
        "# Example usage\n",
        "print(safe_division(10, 2))  # Output: 5.0\n",
        "print(safe_division(10, 0))  # Output: Error: Division by zero, then None"
      ],
      "metadata": {
        "colab": {
          "base_uri": "https://localhost:8080/"
        },
        "id": "IU7PdSw1EOi-",
        "outputId": "36801389-f01a-499a-aeae-f599856c2ba6"
      },
      "execution_count": null,
      "outputs": [
        {
          "output_type": "stream",
          "name": "stdout",
          "text": [
            "5.0\n",
            "Error: Division by zero\n",
            "None\n"
          ]
        }
      ]
    },
    {
      "cell_type": "markdown",
      "source": [
        "6. Write a Python program that logs an error message to a log file when a division by zero exception occurs."
      ],
      "metadata": {
        "id": "Eo2mwFqtEYIr"
      }
    },
    {
      "cell_type": "code",
      "source": [
        "import logging\n",
        "\n",
        "def safe_division(numerator, denominator):\n",
        "    try:\n",
        "        result = numerator / denominator\n",
        "        return result\n",
        "    except ZeroDivisionError:\n",
        "        logging.error(\"Division by zero error occurred\")\n",
        "        return None\n",
        "\n",
        "# Configure logging to write to a file\n",
        "logging.basicConfig(filename='error.log', level=logging.ERROR,\n",
        "                    format='%(asctime)s - %(levelname)s - %(message)s')\n",
        "\n",
        "# Example usage\n",
        "print(safe_division(10, 2))\n",
        "print(safe_division(10, 0))\n"
      ],
      "metadata": {
        "colab": {
          "base_uri": "https://localhost:8080/"
        },
        "id": "3iBGHnebFEur",
        "outputId": "ae2792cc-f287-49e0-80c2-451d1328bb77"
      },
      "execution_count": null,
      "outputs": [
        {
          "output_type": "stream",
          "name": "stderr",
          "text": [
            "ERROR:root:Division by zero error occurred\n"
          ]
        },
        {
          "output_type": "stream",
          "name": "stdout",
          "text": [
            "5.0\n",
            "None\n"
          ]
        }
      ]
    },
    {
      "cell_type": "markdown",
      "source": [
        "7.How do you log information at different levels (INFO, ERROR, WARNING) in Python using the logging module?"
      ],
      "metadata": {
        "id": "onrOKG91FVtF"
      }
    },
    {
      "cell_type": "code",
      "source": [
        "import logging\n",
        "\n",
        "# Configure the logging system\n",
        "logging.basicConfig(level=logging.DEBUG,  # Set the root logger's level\n",
        "                    format='%(asctime)s - %(levelname)s - %(message)s')\n",
        "\n",
        "# Log messages at different levels\n",
        "logging.debug(\"This is a debug message.\")\n",
        "logging.info(\"This is an informational message.\")\n",
        "logging.warning(\"This is a warning message.\")\n",
        "logging.error(\"This is an error message.\")\n",
        "logging.critical(\"This is a critical message.\")\n",
        "\n",
        "\n",
        "# We can also create specific loggers for different parts of our application\n",
        "logger = logging.getLogger(__name__) # Best practice to use __name__\n",
        "logger.setLevel(logging.INFO)\n",
        "logger.info('This is an info message from a specific logger.')\n",
        "\n",
        "\n",
        "# Example of logging an exception\n",
        "try:\n",
        "  1 / 0\n",
        "except ZeroDivisionError:\n",
        "  logging.exception(\"An exception occurred\")\n"
      ],
      "metadata": {
        "colab": {
          "base_uri": "https://localhost:8080/"
        },
        "id": "-IF8AQYzFyg8",
        "outputId": "0a1f2f55-cc32-40a8-9edf-5ec83709d4cc"
      },
      "execution_count": null,
      "outputs": [
        {
          "output_type": "stream",
          "name": "stderr",
          "text": [
            "WARNING:root:This is a warning message.\n",
            "ERROR:root:This is an error message.\n",
            "CRITICAL:root:This is a critical message.\n",
            "INFO:__main__:This is an info message from a specific logger.\n",
            "ERROR:root:An exception occurred\n",
            "Traceback (most recent call last):\n",
            "  File \"<ipython-input-15-6f5333e18bd0>\", line 23, in <cell line: 0>\n",
            "    1 / 0\n",
            "    ~~^~~\n",
            "ZeroDivisionError: division by zero\n"
          ]
        }
      ]
    },
    {
      "cell_type": "markdown",
      "source": [
        "8. Write a program to handle a file opening error using exception handling."
      ],
      "metadata": {
        "id": "Vks9fDuSGs8l"
      }
    },
    {
      "cell_type": "code",
      "source": [
        "import logging\n",
        "\n",
        "def handle_file_error(filename):\n",
        "    try:\n",
        "        with open(filename, 'r') as file:\n",
        "            contents = file.read()\n",
        "            return contents\n",
        "    except FileNotFoundError:\n",
        "        logging.error(f\"Error: File '{filename}' not found.\")\n",
        "        return None\n",
        "    except PermissionError:\n",
        "        logging.error(f\"Error: Permission denied to access file '{filename}'.\")\n",
        "        return None\n",
        "    except Exception as e:\n",
        "        logging.exception(f\"An unexpected error occurred while opening '{filename}': {e}\")\n",
        "        return None\n",
        "\n",
        "# Configure logging (optional, but recommended)\n",
        "logging.basicConfig(filename='file_errors.log', level=logging.ERROR,\n",
        "                    format='%(asctime)s - %(levelname)s - %(message)s')\n",
        "\n",
        "# Example usage\n",
        "file_content = handle_file_error(\"copied_file.txt\")\n",
        "if file_content:\n",
        "   print(file_content)"
      ],
      "metadata": {
        "colab": {
          "base_uri": "https://localhost:8080/"
        },
        "id": "_ek-eJc7HAWx",
        "outputId": "64099b7d-f4c0-4bdc-8bcc-3c1983ab1f5c"
      },
      "execution_count": null,
      "outputs": [
        {
          "output_type": "stream",
          "name": "stdout",
          "text": [
            "This is 1 test string.This is 2 test string.This is 3 test string.This is 4 test string.This is 5 test string.\n"
          ]
        }
      ]
    },
    {
      "cell_type": "markdown",
      "source": [
        "9. How can you read a file line by line and store its content in a list in Python?"
      ],
      "metadata": {
        "id": "UdPE4cNkHeui"
      }
    },
    {
      "cell_type": "code",
      "source": [
        "def read_file_into_list(filename):\n",
        "    \"\"\"Reads a file line by line and stores its content in a list.\n",
        "\n",
        "    Args:\n",
        "      filename: The path to the file.\n",
        "\n",
        "    Returns:\n",
        "      A list of strings, where each string is a line from the file,\n",
        "      or None if the file is not found.\n",
        "    \"\"\"\n",
        "    try:\n",
        "        with open(filename, 'r') as file:\n",
        "            lines = []\n",
        "            for line in file:\n",
        "                lines.append(line.strip())  # Remove leading/trailing whitespace\n",
        "            return lines\n",
        "    except FileNotFoundError:\n",
        "        print(f\"Error: File '{filename}' not found.\")\n",
        "        return None\n",
        "\n",
        "# Example usage:\n",
        "file_content = read_file_into_list('your_file.txt')\n",
        "if file_content:\n",
        "   print(file_content)"
      ],
      "metadata": {
        "id": "_hUSW26QHxEv",
        "colab": {
          "base_uri": "https://localhost:8080/"
        },
        "outputId": "c4db13cb-a1d6-4f8b-de84-9c1e8656632d"
      },
      "execution_count": 20,
      "outputs": [
        {
          "output_type": "stream",
          "name": "stdout",
          "text": [
            "['This is 1 test string.This is 2 test string.This is 3 test string.This is 4 test string.This is 5 test string.']\n"
          ]
        }
      ]
    },
    {
      "cell_type": "markdown",
      "source": [
        "10. How can you append data into an existing file in Python?"
      ],
      "metadata": {
        "id": "_lkcvgjZMDoo"
      }
    },
    {
      "cell_type": "code",
      "source": [
        "def append_to_file(filename, data):\n",
        "    \"\"\"Appends data to an existing file.\n",
        "\n",
        "    Args:\n",
        "        filename: The path to the file.\n",
        "        data: The data to append (string).\n",
        "    \"\"\"\n",
        "    try:\n",
        "        with open(filename, 'a') as file:\n",
        "            file.write(data)\n",
        "    except FileNotFoundError:\n",
        "        print(f\"Error: File '{filename}' not found.\")\n",
        "    except Exception as e:\n",
        "        print(f\"An error occurred: {e}\")\n",
        "\n",
        "# Example usage\n",
        "append_to_file('my_file.txt', '\\nThis is appended text.')\n",
        "file = open('my_file.txt', 'r')\n",
        "print(file.read())\n",
        "file.close()"
      ],
      "metadata": {
        "colab": {
          "base_uri": "https://localhost:8080/"
        },
        "id": "LbmLFEVQMxVq",
        "outputId": "23e10663-4d52-41fd-9a56-0efebd9a5f13"
      },
      "execution_count": 22,
      "outputs": [
        {
          "output_type": "stream",
          "name": "stdout",
          "text": [
            "This is a test string.\n",
            "This is appended text.\n",
            "This is appended text.\n"
          ]
        }
      ]
    },
    {
      "cell_type": "markdown",
      "source": [
        "11. Write a Python program that uses try-except block to handle an error when attempting to access a dictionary key that doesn't exist."
      ],
      "metadata": {
        "id": "0hPDGsQuPa2o"
      }
    },
    {
      "cell_type": "code",
      "source": [
        "def access_dictionary_safely(my_dict, key):\n",
        "    try:\n",
        "        value = my_dict[key]\n",
        "        print(f\"The value associated with key '{key}' is: {value}\")\n",
        "        return value\n",
        "    except KeyError:\n",
        "        print(f\"Error: Key '{key}' not found in the dictionary.\")\n",
        "        return None  # or raise a custom exception, or return a default value\n",
        "\n",
        "# Example usage:\n",
        "my_dict = {\"a\": 1, \"b\": 2, \"c\": 3}\n",
        "\n",
        "access_dictionary_safely(my_dict, \"b\")  # Output: The value associated with key 'b' is: 2\n",
        "access_dictionary_safely(my_dict, \"d\")  # Output: Error: Key 'd' not found in the dictionary."
      ],
      "metadata": {
        "colab": {
          "base_uri": "https://localhost:8080/"
        },
        "id": "_UqMLI7OQLQu",
        "outputId": "a0c3b330-7f30-4034-ac6b-488711dfe67a"
      },
      "execution_count": 23,
      "outputs": [
        {
          "output_type": "stream",
          "name": "stdout",
          "text": [
            "The value associated with key 'b' is: 2\n",
            "Error: Key 'd' not found in the dictionary.\n"
          ]
        }
      ]
    },
    {
      "cell_type": "markdown",
      "source": [
        "12. Write a program that demonstrates using multiple except blocks to handle different types of exceptions."
      ],
      "metadata": {
        "id": "72uON0xyQebS"
      }
    },
    {
      "cell_type": "code",
      "source": [
        "def handle_multiple_exceptions():\n",
        "    try:\n",
        "        # Code that might raise different exceptions\n",
        "         result = 10 / 0  # ZeroDivisionError\n",
        "        # my_list = [1,2,3]\n",
        "        #   print(my_list[5]) # IndexError\n",
        "        # my_dict = {'a': 1}\n",
        "        # print(my_dict['b']) # KeyError\n",
        "    except ZeroDivisionError:\n",
        "        print(\"Error: Division by zero\")\n",
        "    except IndexError:\n",
        "        print(\"Error: Invalid list index\")\n",
        "    except KeyError:\n",
        "        print(\"Error: Key not found in dictionary\")\n",
        "    except Exception as e: # Catching any other type of exception.\n",
        "        print(f\"An unexpected error occurred: {e}\")\n",
        "    else:\n",
        "        print(\"No exceptions occurred\")\n",
        "    finally:\n",
        "        print(\"This will always be executed.\")\n",
        "\n",
        "\n",
        "handle_multiple_exceptions()"
      ],
      "metadata": {
        "colab": {
          "base_uri": "https://localhost:8080/"
        },
        "id": "-IndSrLXg7g0",
        "outputId": "efb115ec-6b4b-4ae3-a997-76957d7224f1"
      },
      "execution_count": 3,
      "outputs": [
        {
          "output_type": "stream",
          "name": "stdout",
          "text": [
            "Error: Division by zero\n",
            "This will always be executed.\n"
          ]
        }
      ]
    },
    {
      "cell_type": "markdown",
      "source": [
        "13. How would you check if a file exists before attempting to read it in Python?"
      ],
      "metadata": {
        "id": "dLqsVigmhB_U"
      }
    },
    {
      "cell_type": "code",
      "source": [
        "import os\n",
        "\n",
        "def check_file_exists(filename):\n",
        "    \"\"\"Checks if a file exists before attempting to read it.\n",
        "    Args:\n",
        "        filename: The path to the file.\n",
        "    Returns:\n",
        "        True if the file exists, False otherwise.\n",
        "    \"\"\"\n",
        "    return os.path.exists(filename)\n",
        "\n",
        "# Example usage\n",
        "filename = \"my_file.txt\"\n",
        "\n",
        "if check_file_exists(filename):\n",
        "    try:\n",
        "        with open(filename, 'r') as file:\n",
        "            contents = file.read()\n",
        "            print(\"File content:\\n\", contents)\n",
        "    except Exception as e:\n",
        "        print(f\"An error occurred while reading the file: {e}\")\n",
        "else:\n",
        "    print(f\"File '{filename}' does not exist.\")"
      ],
      "metadata": {
        "colab": {
          "base_uri": "https://localhost:8080/"
        },
        "id": "70E8eewEh_ld",
        "outputId": "263e3945-43f7-4ee9-feaa-c893c6ae0f95"
      },
      "execution_count": 6,
      "outputs": [
        {
          "output_type": "stream",
          "name": "stdout",
          "text": [
            "File content:\n",
            " This is a test string.\n"
          ]
        }
      ]
    },
    {
      "cell_type": "markdown",
      "source": [
        "14. Write a program that uses the logging module to log both informational and error messages."
      ],
      "metadata": {
        "id": "2hcryiSmiYdk"
      }
    },
    {
      "cell_type": "code",
      "source": [
        "import logging\n",
        "\n",
        "# Configure the logging system\n",
        "logging.basicConfig(filename='my_app.log', level=logging.INFO,\n",
        "                    format='%(asctime)s - %(levelname)s - %(message)s')\n",
        "\n",
        "def my_function():\n",
        "    logging.info(\"Starting my_function\")  # Informational message\n",
        "    try:\n",
        "        # Code that might raise an error\n",
        "        result = 10 / 0\n",
        "    except ZeroDivisionError:\n",
        "        logging.error(\"Division by zero error occurred\")  # Error message\n",
        "        return None\n",
        "    else:\n",
        "        logging.info(f\"my_function completed successfully. Result: {result}\")\n",
        "    finally:\n",
        "        logging.info(\"Exiting my_function\")\n",
        "\n",
        "\n",
        "if __name__ == \"__main__\":\n",
        "    my_function()\n"
      ],
      "metadata": {
        "colab": {
          "base_uri": "https://localhost:8080/"
        },
        "id": "ihHMxKauirVy",
        "outputId": "6ff1d27a-c355-4868-aca4-b60cffdccd2e"
      },
      "execution_count": 7,
      "outputs": [
        {
          "output_type": "stream",
          "name": "stderr",
          "text": [
            "ERROR:root:Division by zero error occurred\n"
          ]
        }
      ]
    },
    {
      "cell_type": "markdown",
      "source": [
        "15. Write a Python program that prints the content of a file and handles the case when the file is empty."
      ],
      "metadata": {
        "id": "djETKT6ci0k5"
      }
    },
    {
      "cell_type": "code",
      "source": [
        "def print_file_content(filename):\n",
        "    \"\"\"Prints the content of a file, handling empty files gracefully.\"\"\"\n",
        "    try:\n",
        "        with open(filename, 'r') as file:\n",
        "            contents = file.read()\n",
        "            if contents:\n",
        "                print(contents)\n",
        "            else:\n",
        "                print(f\"The file '{filename}' is empty.\")\n",
        "    except FileNotFoundError:\n",
        "        print(f\"Error: File '{filename}' not found.\")\n",
        "    except Exception as e:\n",
        "        print(f\"An error occurred: {e}\")\n",
        "\n",
        "# Example usage:\n",
        "print_file_content(\"new_file.txt\")"
      ],
      "metadata": {
        "colab": {
          "base_uri": "https://localhost:8080/"
        },
        "id": "lHsJ0wLpjCvN",
        "outputId": "e2be707f-f773-4e9f-ae37-cfcfa04b3843"
      },
      "execution_count": 8,
      "outputs": [
        {
          "output_type": "stream",
          "name": "stdout",
          "text": [
            "Error: File 'new_file.txt' not found.\n"
          ]
        }
      ]
    },
    {
      "cell_type": "markdown",
      "source": [
        "16. Demonstrate how to use memory profiling to check the memory usage of a small program."
      ],
      "metadata": {
        "id": "NwXasudEjOir"
      }
    },
    {
      "cell_type": "code",
      "source": [
        "!pip install memory_profiler\n",
        "\n",
        "%load_ext memory_profiler\n",
        "\n",
        "# Example function to profile\n",
        "def my_memory_intensive_function():\n",
        "    a = [i for i in range(1000000)]\n",
        "    b = [i * 2 for i in a]\n",
        "    return a, b\n",
        "\n",
        "# Use the memory_profiler extension\n",
        "%memit my_memory_intensive_function()\n"
      ],
      "metadata": {
        "colab": {
          "base_uri": "https://localhost:8080/"
        },
        "id": "5vF_2RmPjeAB",
        "outputId": "2c740a52-3e3d-4ac6-92f1-20e2482f3f9d"
      },
      "execution_count": 9,
      "outputs": [
        {
          "output_type": "stream",
          "name": "stdout",
          "text": [
            "Collecting memory_profiler\n",
            "  Downloading memory_profiler-0.61.0-py3-none-any.whl.metadata (20 kB)\n",
            "Requirement already satisfied: psutil in /usr/local/lib/python3.11/dist-packages (from memory_profiler) (5.9.5)\n",
            "Downloading memory_profiler-0.61.0-py3-none-any.whl (31 kB)\n",
            "Installing collected packages: memory_profiler\n",
            "Successfully installed memory_profiler-0.61.0\n",
            "peak memory: 175.18 MiB, increment: 72.96 MiB\n"
          ]
        }
      ]
    },
    {
      "cell_type": "markdown",
      "source": [
        "17. Write a Python program to create and write a list of numbers to a file, one number per line."
      ],
      "metadata": {
        "id": "y74xtRcHjwXF"
      }
    },
    {
      "cell_type": "code",
      "source": [
        "def write_numbers_to_file(filename, numbers):\n",
        "    \"\"\"Writes a list of numbers to a file, one number per line.\n",
        "\n",
        "    Args:\n",
        "        filename: The name of the file to write to.\n",
        "        numbers: A list of numbers.\n",
        "    \"\"\"\n",
        "    try:\n",
        "        with open(filename, 'w') as file:\n",
        "            for number in numbers:\n",
        "                file.write(str(number) + '\\n')\n",
        "        print(f\"Numbers written to '{filename}' successfully.\")\n",
        "    except Exception as e:\n",
        "        print(f\"An error occurred: {e}\")\n",
        "\n",
        "# Example usage:\n",
        "numbers = [1, 2, 3, 4, 5, 6, 7, 8, 9, 10]\n",
        "write_numbers_to_file(\"numbers.txt\", numbers)"
      ],
      "metadata": {
        "colab": {
          "base_uri": "https://localhost:8080/"
        },
        "id": "HaCDe7grkCDJ",
        "outputId": "d6f70ccf-3e1a-47ad-e997-aa52516ab242"
      },
      "execution_count": 10,
      "outputs": [
        {
          "output_type": "stream",
          "name": "stdout",
          "text": [
            "Numbers written to 'numbers.txt' successfully.\n"
          ]
        }
      ]
    },
    {
      "cell_type": "markdown",
      "source": [
        "18. How would you implement a basic logging setup that logs to a file with rotation after 1MB?"
      ],
      "metadata": {
        "id": "xI4iRsF4kOBb"
      }
    },
    {
      "cell_type": "code",
      "source": [
        "import logging\n",
        "from logging.handlers import RotatingFileHandler\n",
        "import os\n",
        "\n",
        "def setup_logging(log_file=\"my_app.log\", max_bytes=1024*1024): # 1MB\n",
        "    \"\"\"Sets up a logging configuration with file rotation.\"\"\"\n",
        "\n",
        "    # Check if the directory exists, create if not\n",
        "    log_dir = os.path.dirname(log_file)\n",
        "    if log_dir and not os.path.exists(log_dir):\n",
        "        os.makedirs(log_dir)\n",
        "\n",
        "    # Create a rotating file handler\n",
        "    handler = RotatingFileHandler(log_file, maxBytes=max_bytes, backupCount=5)  # Keep 5 backup files\n",
        "\n",
        "    # Create a logger\n",
        "    logger = logging.getLogger()\n",
        "    logger.setLevel(logging.DEBUG)  # Set the desired logging level\n",
        "    logger.addHandler(handler)\n",
        "\n",
        "    # Define the log message format\n",
        "    formatter = logging.Formatter('%(asctime)s - %(levelname)s - %(message)s')\n",
        "    handler.setFormatter(formatter)\n",
        "\n",
        "    return logger\n",
        "\n",
        "# Example usage\n",
        "logger = setup_logging()\n",
        "logger.info(\"Starting application...\")\n",
        "logger.debug(\"This is a debug message.\")\n",
        "logger.warning(\"This is a warning message.\")\n",
        "# Simulate lots of logging\n",
        "for i in range(27):\n",
        "  logger.info(f\"Log message {i}\")\n",
        "\n",
        "logger.error(\"This is an error message.\")\n",
        "logger.critical(\"This is a critical message.\")"
      ],
      "metadata": {
        "colab": {
          "base_uri": "https://localhost:8080/"
        },
        "id": "YJ4MphwmkoO6",
        "outputId": "b2fd2d0b-eb8c-4b30-cb97-3f56bc404b65"
      },
      "execution_count": 2,
      "outputs": [
        {
          "output_type": "stream",
          "name": "stderr",
          "text": [
            "INFO:root:Starting application...\n",
            "DEBUG:root:This is a debug message.\n",
            "WARNING:root:This is a warning message.\n",
            "INFO:root:Log message 0\n",
            "INFO:root:Log message 1\n",
            "INFO:root:Log message 2\n",
            "INFO:root:Log message 3\n",
            "INFO:root:Log message 4\n",
            "INFO:root:Log message 5\n",
            "INFO:root:Log message 6\n",
            "INFO:root:Log message 7\n",
            "INFO:root:Log message 8\n",
            "INFO:root:Log message 9\n",
            "INFO:root:Log message 10\n",
            "INFO:root:Log message 11\n",
            "INFO:root:Log message 12\n",
            "INFO:root:Log message 13\n",
            "INFO:root:Log message 14\n",
            "INFO:root:Log message 15\n",
            "INFO:root:Log message 16\n",
            "INFO:root:Log message 17\n",
            "INFO:root:Log message 18\n",
            "INFO:root:Log message 19\n",
            "INFO:root:Log message 20\n",
            "INFO:root:Log message 21\n",
            "INFO:root:Log message 22\n",
            "INFO:root:Log message 23\n",
            "INFO:root:Log message 24\n",
            "INFO:root:Log message 25\n",
            "INFO:root:Log message 26\n",
            "ERROR:root:This is an error message.\n",
            "CRITICAL:root:This is a critical message.\n"
          ]
        }
      ]
    },
    {
      "cell_type": "markdown",
      "source": [
        "19. Write a program that handles both IndexError and KeyError using a try-except block."
      ],
      "metadata": {
        "id": "reKNlOSclBMC"
      }
    },
    {
      "cell_type": "code",
      "source": [
        "def handle_exceptions():\n",
        "    my_list = [1, 2, 3]\n",
        "    my_dict = {'a': 1, 'b': 2}\n",
        "\n",
        "    try:\n",
        "        print(my_list[5])  # This will raise an IndexError\n",
        "        print(my_dict['c'])  # This will raise a KeyError\n",
        "    except IndexError as e:\n",
        "        print(f\"An IndexError occurred: {e}\")\n",
        "    except KeyError as e:\n",
        "        print(f\"A KeyError occurred: {e}\")\n",
        "\n",
        "handle_exceptions()"
      ],
      "metadata": {
        "colab": {
          "base_uri": "https://localhost:8080/"
        },
        "id": "7bCcf4jilR1k",
        "outputId": "d92020e9-258e-49b7-e840-16cf8bdc2d7a"
      },
      "execution_count": 4,
      "outputs": [
        {
          "output_type": "stream",
          "name": "stdout",
          "text": [
            "An IndexError occurred: list index out of range\n"
          ]
        }
      ]
    },
    {
      "cell_type": "markdown",
      "source": [
        "20. How would you open a file and read its contents using a context manager in Python?  "
      ],
      "metadata": {
        "id": "QXiwzKFJlhCM"
      }
    },
    {
      "cell_type": "code",
      "source": [
        "def read_file_with_context_manager(filename):\n",
        "    \"\"\"Reads the content of a file using a context manager.\"\"\"\n",
        "    try:\n",
        "        with open(filename, 'r') as file:\n",
        "            contents = file.read()\n",
        "            return contents\n",
        "    except FileNotFoundError:\n",
        "        print(f\"Error: File '{filename}' not found.\")\n",
        "        return None\n",
        "\n",
        "# Example usage\n",
        "file_contents = read_file_with_context_manager('your_file.txt')\n",
        "if file_contents:\n",
        "  print(file_contents)"
      ],
      "metadata": {
        "colab": {
          "base_uri": "https://localhost:8080/"
        },
        "id": "Fho6zMDElyOb",
        "outputId": "ac7fff41-968b-4f52-a21d-ab04916eb727"
      },
      "execution_count": 10,
      "outputs": [
        {
          "output_type": "stream",
          "name": "stdout",
          "text": [
            "This is 1 test string.This is 2 test string.This is 3 test string.This is 4 test string.This is 5 test string.\n"
          ]
        }
      ]
    },
    {
      "cell_type": "markdown",
      "source": [
        "21. Write a Python program that reads a file and prints the number of occurrences of a specific word."
      ],
      "metadata": {
        "id": "WdzhXkhymA1y"
      }
    },
    {
      "cell_type": "code",
      "source": [
        "def count_word_occurrences(filename, word):\n",
        "    \"\"\"Reads a file and counts the occurrences of a specific word.\n",
        "\n",
        "    Args:\n",
        "        filename: The path to the file.\n",
        "        word: The word to count.\n",
        "\n",
        "    Returns:\n",
        "        The number of times the word appears in the file, or -1 if the file\n",
        "        is not found.\n",
        "    \"\"\"\n",
        "    try:\n",
        "        with open(filename, 'r') as file:\n",
        "            contents = file.read()\n",
        "            words = contents.lower().split()  # Convert to lowercase and split into words\n",
        "            return words.count(word.lower())  # Count occurrences of the word (case-insensitive)\n",
        "    except FileNotFoundError:\n",
        "        print(f\"Error: File '{filename}' not found.\")\n",
        "        return -1\n",
        "\n",
        "# Example usage\n",
        "filename = \"your_file.txt\"\n",
        "word_to_count = \"test\"\n",
        "occurrences = count_word_occurrences(filename, word_to_count)\n",
        "\n",
        "if occurrences != -1:\n",
        "    print(f\"The word '{word_to_count}' appears {occurrences} times in the file.\")\n"
      ],
      "metadata": {
        "colab": {
          "base_uri": "https://localhost:8080/"
        },
        "id": "FHODaBzomXaX",
        "outputId": "1b75c90a-b7f4-478d-d98b-71a4b4c699bd"
      },
      "execution_count": 9,
      "outputs": [
        {
          "output_type": "stream",
          "name": "stdout",
          "text": [
            "The word 'test' appears 5 times in the file.\n"
          ]
        }
      ]
    },
    {
      "cell_type": "markdown",
      "source": [
        "22. How can you check if a file is empty before attempting to read its contents?"
      ],
      "metadata": {
        "id": "Pgu4N6xtm4Ab"
      }
    },
    {
      "cell_type": "code",
      "source": [
        "import os\n",
        "\n",
        "def check_file_empty(filename):\n",
        "    \"\"\"Checks if a file is empty before attempting to read its contents.\n",
        "\n",
        "    Args:\n",
        "        filename: The path to the file.\n",
        "\n",
        "    Returns:\n",
        "        True if the file is empty, False otherwise.  Returns None if the file\n",
        "        doesn't exist.\n",
        "    \"\"\"\n",
        "    if not os.path.exists(filename):\n",
        "        return None  # Or raise an exception if you prefer\n",
        "\n",
        "    return os.stat(filename).st_size == 0\n",
        "\n",
        "# Example usage\n",
        "filename = \"my_file.txt\"\n",
        "if check_file_empty(filename) is True:\n",
        "    print(f\"The file '{filename}' is empty.\")\n",
        "elif check_file_empty(filename) is False:\n",
        "    print(f\"The file '{filename}' is not empty.\")\n",
        "    # Proceed to read the file\n",
        "elif check_file_empty(filename) is None:\n",
        "    print(f\"The file '{filename}' does not exist.\")\n"
      ],
      "metadata": {
        "colab": {
          "base_uri": "https://localhost:8080/"
        },
        "id": "Te24LvWpnpu5",
        "outputId": "4ca79fe5-7b29-4e20-d4de-73c3b56f33e0"
      },
      "execution_count": 11,
      "outputs": [
        {
          "output_type": "stream",
          "name": "stdout",
          "text": [
            "The file 'my_file.txt' is not empty.\n"
          ]
        }
      ]
    },
    {
      "cell_type": "markdown",
      "source": [
        "23. Write a Python program that writes a log file when an error occurs during file handling."
      ],
      "metadata": {
        "id": "GTwhuyMRnwx2"
      }
    },
    {
      "cell_type": "code",
      "source": [
        "import logging\n",
        "\n",
        "def file_handling_with_logging(filename):\n",
        "    try:\n",
        "        with open(filename, 'r') as file:\n",
        "            contents = file.read()\n",
        "            # Perform operations on the file\n",
        "            print(contents)\n",
        "    except FileNotFoundError:\n",
        "        logging.error(f\"File not found: {filename}\")\n",
        "    except PermissionError:\n",
        "        logging.error(f\"Permission denied to access file: {filename}\")\n",
        "    except Exception as e:\n",
        "        logging.exception(f\"An unexpected error occurred while processing {filename}: {e}\")\n",
        "\n",
        "# Configure the logging\n",
        "logging.basicConfig(filename='file_handling.log', level=logging.ERROR,\n",
        "                    format='%(asctime)s - %(levelname)s - %(message)s')\n",
        "\n",
        "# Example usage\n",
        "file_handling_with_logging('non_existent_file.txt')  # Simulate a file not found error\n"
      ],
      "metadata": {
        "colab": {
          "base_uri": "https://localhost:8080/"
        },
        "id": "m9tTt-qkoB6n",
        "outputId": "d7530f40-331d-416c-be39-28c1fb52db72"
      },
      "execution_count": 12,
      "outputs": [
        {
          "output_type": "stream",
          "name": "stderr",
          "text": [
            "ERROR:root:File not found: non_existent_file.txt\n"
          ]
        }
      ]
    }
  ]
}